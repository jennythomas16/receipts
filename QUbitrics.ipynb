{
 "cells": [
  {
   "cell_type": "code",
   "execution_count": null,
   "metadata": {},
   "outputs": [],
   "source": [
    "import os\n",
    "import cv2\n",
    "from PIL import Image\n",
    "from PIL import ImageDraw\n",
    "import pytesseract\n",
    "import easyocr\n",
    "import json"
   ]
  },
  {
   "cell_type": "code",
   "execution_count": null,
   "metadata": {},
   "outputs": [],
   "source": [
    "path='C:/Users/jenny/Desktop/test'\n",
    "mypiclist=os.listdir(path)\n"
   ]
  },
  {
   "cell_type": "code",
   "execution_count": null,
   "metadata": {
    "scrolled": false
   },
   "outputs": [],
   "source": [
    "reader = easyocr.Reader(['en'], gpu = False)"
   ]
  },
  {
   "cell_type": "code",
   "execution_count": null,
   "metadata": {},
   "outputs": [],
   "source": [
    "for j,y in enumerate(mypiclist):\n",
    "    img=cv2.imread(path + \"/\"+y)\n",
    "    #img = PIL.Image.open(\"C:/Users/jenny/Desktop/test/T1.jpg\")\n",
    "    #cv2.imshow(y,img)\n",
    "    #cv2.waitKey(1000)\n",
    "    #cv2.destroyAllWindows() \n",
    "    bounds = reader.readtext(img)\n",
    "    def draw_boxes(image, bounds, color='yellow', width=2):\n",
    "        draw = ImageDraw.Draw(image)\n",
    "        for bound in bounds:\n",
    "            p0, p1, p2, p3 = bound[0]\n",
    "            draw.line([*p0, *p1, *p2, *p3, *p0], fill=color, width=width)\n",
    "            return image\n",
    "    len(bounds)\n"
   ]
  },
  {
   "cell_type": "code",
   "execution_count": null,
   "metadata": {},
   "outputs": [],
   "source": [
    "for j,y in enumerate(mypiclist):\n",
    "    img=cv2.imread(path + \"/\"+y)\n",
    "    filename = y\n",
    "    with open(y.json, 'w') as f:\n",
    "            #f.write(i[1])\n",
    "            json.dump(i[1], f)\n",
    "            print(filename.json)"
   ]
  }
 ],
 "metadata": {
  "kernelspec": {
   "display_name": "Python 3",
   "language": "python",
   "name": "python3"
  },
  "language_info": {
   "codemirror_mode": {
    "name": "ipython",
    "version": 3
   },
   "file_extension": ".py",
   "mimetype": "text/x-python",
   "name": "python",
   "nbconvert_exporter": "python",
   "pygments_lexer": "ipython3",
   "version": "3.7.6"
  }
 },
 "nbformat": 4,
 "nbformat_minor": 4
}
